{
 "cells": [
  {
   "cell_type": "code",
   "execution_count": 2,
   "id": "19fdca5a",
   "metadata": {},
   "outputs": [
    {
     "name": "stdout",
     "output_type": "stream",
     "text": [
      "*\r\n",
      "**\r\n",
      "***\r\n",
      "****\r\n",
      "*****\r\n",
      "****\r\n",
      "***\r\n",
      "**\r\n",
      "*\r\n",
      "\r\n"
     ]
    }
   ],
   "source": [
    "for i in range(0,5):\n",
    "    for j in range(0,i+1):\n",
    "        print(\"*\",end=\"\")\n",
    "    print(\"\\r\")\n",
    "for i in range(5,0,-1):\n",
    "    for j in range(0,i-1):\n",
    "        print(\"*\",end=\"\")\n",
    "    print(\"\\r\")  "
   ]
  },
  {
   "cell_type": "code",
   "execution_count": 3,
   "id": "92049dee",
   "metadata": {},
   "outputs": [
    {
     "name": "stdout",
     "output_type": "stream",
     "text": [
      "20\n",
      "40\n",
      "60\n",
      "80\n",
      "100\n"
     ]
    }
   ],
   "source": [
    "my_list=[10,20,30,40,50,60,70,80,90,100]\n",
    "length=len(my_list)\n",
    "for i in range(0,length):\n",
    "    if(i%2!=0):\n",
    "        print(my_list[i])"
   ]
  },
  {
   "cell_type": "code",
   "execution_count": 4,
   "id": "5a1f05bf",
   "metadata": {},
   "outputs": [
    {
     "name": "stdout",
     "output_type": "stream",
     "text": [
      "[23, 'Python', 23.98]\n",
      "[<class 'int'>, <class 'str'>, <class 'float'>]\n"
     ]
    }
   ],
   "source": [
    "x=[23,'Python',23.98]\n",
    "y=[]\n",
    "for i in x:\n",
    "    y.append(type(i))\n",
    "print(x)\n",
    "print(y)"
   ]
  },
  {
   "cell_type": "code",
   "execution_count": 9,
   "id": "f982210e",
   "metadata": {},
   "outputs": [
    {
     "name": "stdout",
     "output_type": "stream",
     "text": [
      "Sample List: [1, 2, 3, 3, 3, 3, 4, 5]\n",
      "Unique List: [1, 2, 3, 4, 5]\n"
     ]
    }
   ],
   "source": [
    "x=[1,2,3,3,3,3,4,5]\n",
    "print(\"Sample List:\",x)\n",
    "y=set(x)\n",
    "print(\"Unique List:\",list(y))"
   ]
  },
  {
   "cell_type": "code",
   "execution_count": 10,
   "id": "93af9e32",
   "metadata": {},
   "outputs": [
    {
     "name": "stdout",
     "output_type": "stream",
     "text": [
      "The quick Brow Fox\n",
      "No of Upper-case characters 3\n",
      "No of Lower-case characters 12\n"
     ]
    }
   ],
   "source": [
    "s=input()\n",
    "uppercount=0\n",
    "lowercount=0\n",
    "for i in s:\n",
    "    if(i.isupper()):\n",
    "        uppercount=uppercount+1\n",
    "    elif(i.islower()):\n",
    "        lowercount=lowercount+1\n",
    "print(\"No of Upper-case characters\",uppercount)\n",
    "print(\"No of Lower-case characters\",lowercount)"
   ]
  },
  {
   "cell_type": "code",
   "execution_count": null,
   "id": "5b1ddd2a",
   "metadata": {},
   "outputs": [],
   "source": []
  }
 ],
 "metadata": {
  "kernelspec": {
   "display_name": "Python 3 (ipykernel)",
   "language": "python",
   "name": "python3"
  },
  "language_info": {
   "codemirror_mode": {
    "name": "ipython",
    "version": 3
   },
   "file_extension": ".py",
   "mimetype": "text/x-python",
   "name": "python",
   "nbconvert_exporter": "python",
   "pygments_lexer": "ipython3",
   "version": "3.9.13"
  }
 },
 "nbformat": 4,
 "nbformat_minor": 5
}
